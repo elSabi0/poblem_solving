{
 "cells": [
  {
   "cell_type": "code",
   "execution_count": 7,
   "metadata": {},
   "outputs": [
    {
     "name": "stdout",
     "output_type": "stream",
     "text": [
      "1\n",
      "2\n",
      "3\n",
      "4\n",
      "5\n",
      "Val= 4\n"
     ]
    }
   ],
   "source": [
    "class Node:\n",
    "    def __init__(self, info, next= None):\n",
    "        self.info= info\n",
    "        self.next = next\n",
    "\n",
    "class LinkedList:\n",
    "    def __init__(self):\n",
    "        self.head = None\n",
    "        \n",
    "    def insertAtBeginning(self, info):\n",
    "        #create node\n",
    "        newNode = Node(info)\n",
    "        if self.head == None:\n",
    "            self.head = newNode\n",
    "        else:\n",
    "            newNode.next= self.head\n",
    "            self.head = newNode\n",
    "            \n",
    "    def insertAtEnd(self, info):\n",
    "        newNode = Node(info)\n",
    "        if self.head != None:\n",
    "            current = self.head\n",
    "            while current.next != None:\n",
    "                current = current.next\n",
    "            current.next = newNode\n",
    "        else:\n",
    "            self.head = newNode\n",
    "            \n",
    "    def display(self):\n",
    "        current = self.head\n",
    "        while current != None:\n",
    "            print(current.info)\n",
    "            current = current.next\n",
    "            \n",
    "    def displayKNode(self, k):\n",
    "        arr = []\n",
    "        current = self.head\n",
    "        val = -1\n",
    "        while current != None:\n",
    "            arr.append(current.info)\n",
    "            current = current.next\n",
    "        while k != 0:\n",
    "            val = arr.pop()\n",
    "            k -= 1\n",
    "        return val\n",
    "\n",
    "ll = LinkedList()\n",
    "ll.insertAtEnd(1)\n",
    "ll.insertAtEnd(2)\n",
    "ll.insertAtEnd(3)\n",
    "ll.insertAtEnd(4)\n",
    "ll.insertAtEnd(5)\n",
    "ll.display()\n",
    "val= ll.displayKNode(2)\n",
    "if val == -1:\n",
    "    print(\"value is not present in the linked list\")\n",
    "else:\n",
    "    print(\"Val= {}\".format(val))\n"
   ]
  }
 ],
 "metadata": {
  "kernelspec": {
   "display_name": "Python 3",
   "language": "python",
   "name": "python3"
  },
  "language_info": {
   "codemirror_mode": {
    "name": "ipython",
    "version": 3
   },
   "file_extension": ".py",
   "mimetype": "text/x-python",
   "name": "python",
   "nbconvert_exporter": "python",
   "pygments_lexer": "ipython3",
   "version": "3.6.4"
  }
 },
 "nbformat": 4,
 "nbformat_minor": 2
}
